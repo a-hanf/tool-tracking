{
 "cells": [
  {
   "cell_type": "markdown",
   "metadata": {},
   "source": [
    "## Data Preparation\n",
    "\n",
    "### 0. Description\n",
    "* MeasurementDataReader can be used to query the source directory\n",
    "    * in MeasurementDataReader.query(), specify query_type as Measurement or Action\n",
    "    * with query_type=Measurement the query gives temporally consecutive data (multiple actions)\n",
    "    * with query_type=Action the query gives data with a specific action only\n",
    "* The query yields a data_dict object (defaultdict)\n",
    "    * This can be filtered e.g. by tool\n",
    "* The data_dict holds values for each measurement campagne (e.g. 01, 02, 03, 04 for electric_screwdriver)\n",
    "* Each entry of the data_dict holds observations with all sensors\n",
    "* Each sensor has its own timesteps and labels. Sensors may have different numbers of observations\n",
    "* In total, the data_dict contains here 4x4 entries. One for each measurement campagne (01,02,03,04) and each of them has data for 4 sensors.\n",
    "* datatools.to_ts_data takes the data_dict and returns a list Xt, containing one numpy array for each of the 4x4 entries of the data_dict and a corresponding y.\n",
    "\n",
    "* Windows of fixed length (w.r.t time) can be created with fhgutils.Segment()\n",
    "\n",
    "\n",
    "* Note: Both fhgutils and seglearn provide a Segment class\n",
    "    * fhgutils.Segment facilitates segmentation with fixed window size\n",
    "    * seglearn.transform.Segment for a fixed number of elements per window\n",
    "\n",
    "### 1. Loading\n",
    "* load data for each tool separately (if more than one wanted)\n",
    "* load data by Measurement (not action)\n",
    "    * this gives a timeseries with different actions\n",
    "* result is a DataBunch of multiple measurements"
   ]
  },
  {
   "cell_type": "code",
   "execution_count": 1,
   "metadata": {},
   "outputs": [
    {
     "name": "stderr",
     "output_type": "stream",
     "text": [
      "[INFO] Read data:   6%|█████                                                                           | 1/16 [00:00<00:02,  7.31it/s, file=ACC-01-102.291.csv]"
     ]
    },
    {
     "name": "stdout",
     "output_type": "stream",
     "text": [
      "[INFO] Preparing data from:\n",
      "  tool-tracking-data\\electric_screwdriver\\pythagoras-10-20200716\n",
      "  tool-tracking-data\\electric_screwdriver\\pythagoras-10-20200716\n",
      "  tool-tracking-data\\electric_screwdriver\\pythagoras-10-20200716\n",
      "  tool-tracking-data\\electric_screwdriver\\pythagoras-10-20200716\n",
      "[WARN] The mean sampling rate from the filename (tool-tracking-data\\electric_screwdriver\\pythagoras-10-20200716\\ACC-01-102.291.csv) and from the timestamps differ by 0.001Hz\n",
      "\n"
     ]
    },
    {
     "name": "stderr",
     "output_type": "stream",
     "text": [
      "[INFO] Read data:  25%|████████████████████                                                            | 4/16 [00:00<00:01,  8.35it/s, file=ACC-04-102.291.csv]"
     ]
    },
    {
     "name": "stdout",
     "output_type": "stream",
     "text": [
      "[WARN] The mean sampling rate from the filename (tool-tracking-data\\electric_screwdriver\\pythagoras-10-20200716\\ACC-02-102.291.csv) and from the timestamps differ by 0.001Hz\n",
      "\n",
      "[WARN] The mean sampling rate from the filename (tool-tracking-data\\electric_screwdriver\\pythagoras-10-20200716\\ACC-03-102.291.csv) and from the timestamps differ by 0.001Hz\n",
      "\n",
      "[WARN] The mean sampling rate from the filename (tool-tracking-data\\electric_screwdriver\\pythagoras-10-20200716\\ACC-04-102.291.csv) and from the timestamps differ by 0.001Hz\n",
      "\n"
     ]
    },
    {
     "name": "stderr",
     "output_type": "stream",
     "text": [
      "[INFO] Read data:  38%|██████████████████████████████                                                  | 6/16 [00:00<00:01,  8.54it/s, file=GYR-02-102.291.csv]"
     ]
    },
    {
     "name": "stdout",
     "output_type": "stream",
     "text": [
      "[WARN] The mean sampling rate from the filename (tool-tracking-data\\electric_screwdriver\\pythagoras-10-20200716\\GYR-01-102.291.csv) and from the timestamps differ by 0.001Hz\n",
      "\n",
      "[WARN] The mean sampling rate from the filename (tool-tracking-data\\electric_screwdriver\\pythagoras-10-20200716\\GYR-02-102.291.csv) and from the timestamps differ by 0.001Hz\n",
      "\n",
      "[WARN] The mean sampling rate from the filename (tool-tracking-data\\electric_screwdriver\\pythagoras-10-20200716\\GYR-03-102.291.csv) and from the timestamps differ by 0.001Hz\n"
     ]
    },
    {
     "name": "stderr",
     "output_type": "stream",
     "text": [
      "[INFO] Read annotation: 100%|█████████████████████████████████████████████████████████████████████████| 16/16 [00:00<00:00,  9.12it/s, file=data-02.annotation]"
     ]
    },
    {
     "name": "stdout",
     "output_type": "stream",
     "text": [
      "\n",
      "[WARN] The mean sampling rate from the filename (tool-tracking-data\\electric_screwdriver\\pythagoras-10-20200716\\GYR-04-102.291.csv) and from the timestamps differ by 0.001Hz\n",
      "\n"
     ]
    },
    {
     "name": "stderr",
     "output_type": "stream",
     "text": [
      "[INFO] Read annotation: 100%|█████████████████████████████████████████████████████████████████████████| 16/16 [00:01<00:00, 12.85it/s, file=data-04.annotation]"
     ]
    },
    {
     "name": "stdout",
     "output_type": "stream",
     "text": [
      "[INFO] Finished with 4 measurement(s).\n"
     ]
    },
    {
     "name": "stderr",
     "output_type": "stream",
     "text": [
      "\n"
     ]
    }
   ],
   "source": [
    "from pathlib import Path\n",
    "from datatools.fixture import setup_dummy_data\n",
    "from datatools import Tool, Config, MeasurementSeries, Measurement, DataTypes, Action\n",
    "from datatools import ACC, GYR, MAG, MIC, POS, VEL\n",
    "import numpy as np\n",
    "import pandas as pd\n",
    "from seglearn.transform import Segment as SegmentFixedNum\n",
    "from seglearn.base import TS_Data\n",
    "from seglearn.pipe import Pype\n",
    "from fhgutils import Segment, contextual_recarray_dtype, filter_ts_data\n",
    "from datatools import to_ts_data\n",
    "source = \"./tool-tracking-data/\"\n",
    "\n",
    "from datatools import MeasurementDataReader, Measurement, MeasurementSeries, Action\n",
    "mdr = MeasurementDataReader(source=source)\n",
    "\n",
    "q = mdr.query(query_type=Measurement)\n",
    "\n",
    "mytool = \"electric_screwdriver\"\n",
    "#mytool = \"pneumatic_screwdriver\"\n",
    "#mytool = \"pneumatic_rivet_gun\"\n",
    "#mytool = \"test_tool\"\n",
    "\n",
    "data_dict = q.filter_by(Tool == mytool, DataTypes == [ACC, GYR]).get()"
   ]
  },
  {
   "cell_type": "markdown",
   "metadata": {},
   "source": [
    "### 2. Processing\n",
    "* select desired measurements from DataBunch\n",
    "* convert to numpy arrays with fhgutils.to_ts_data\n",
    "* create time-windows\n",
    "* filter data\n",
    "    * remove label -1\n",
    "    * remove windows with conflicting labels"
   ]
  },
  {
   "cell_type": "code",
   "execution_count": 2,
   "metadata": {},
   "outputs": [],
   "source": [
    "measurement_data = []\n",
    "for k, v in data_dict.items():\n",
    "    data = pd.concat([pd.DataFrame(v.acc), pd.DataFrame(v.gyr)], axis=1)\n",
    "    data = data.loc[:,~data.columns.duplicated()]\n",
    "    measurement_data.append(data)\n",
    "df = pd.concat(measurement_data)\n",
    "df = df.reset_index(drop=True)\n",
    "y = df.label.to_numpy()\n",
    "X = df.iloc[:, df.columns != \"label\"].to_numpy()"
   ]
  },
  {
   "cell_type": "code",
   "execution_count": 26,
   "metadata": {},
   "outputs": [],
   "source": [
    "obs_per_window = 100\n",
    "window_length = 0.2\n",
    "overlap = 0.5\n",
    "\n",
    "pipe = Pype([('segment', SegmentFixedNum(width=obs_per_window, overlap=overlap))])\n",
    "#pipe = Pype([('segment', Segment(window_length=window_length, overlap=overlap, enforce_size=True))])\n",
    "\n",
    "X_trans, y_trans = pipe.fit_transform(X[:1000], y[:1000])"
   ]
  },
  {
   "cell_type": "code",
   "execution_count": 33,
   "metadata": {},
   "outputs": [
    {
     "data": {
      "text/plain": [
       "array([[[1, 2],\n",
       "        [2, 3],\n",
       "        [3, 4],\n",
       "        [4, 5]]])"
      ]
     },
     "execution_count": 33,
     "metadata": {},
     "output_type": "execute_result"
    }
   ],
   "source": [
    "def window_per_obs(X, obs_per_window=100):\n",
    "    for i in range(X.shape[0] // obs_per_window):\n",
    "        pass\n",
    "    return\n",
    "a = np.array([[1,2],[2,3],[3,4],[4,5]])\n",
    "a[np.newaxis, :, :]"
   ]
  },
  {
   "cell_type": "code",
   "execution_count": null,
   "metadata": {},
   "outputs": [],
   "source": [
    "# clean and window data\n",
    "Xt, Xc, y = to_ts_data(data_dict, contextual_recarray_dtype)\n",
    "\n",
    "X = TS_Data(Xt, Xc)"
   ]
  },
  {
   "cell_type": "code",
   "execution_count": null,
   "metadata": {},
   "outputs": [],
   "source": [
    "data_dict.get(\"01\")"
   ]
  },
  {
   "cell_type": "code",
   "execution_count": null,
   "metadata": {},
   "outputs": [],
   "source": [
    "# Segment with fixed window size (w.r.t time)\n",
    "\n",
    "window_length = 0.2 # unit in s\n",
    "overlap = 0.5 # unit in percent\n",
    "\n",
    "pipe = Pype([('segment', Segment(window_length=window_length, overlap=overlap, enforce_size=True, n=len(np.unique(Xc.desc))))])\n",
    "\n",
    "X_trans, y_trans = pipe.fit_transform(X, y)"
   ]
  },
  {
   "cell_type": "code",
   "execution_count": null,
   "metadata": {},
   "outputs": [],
   "source": [
    "# Segment with fixed number of observations per window\n",
    "\n",
    "obs_per_window = 100\n",
    "overlap = 0.5\n",
    "\n",
    "pipe = Pype([('segment', SegmentFixedNum(width=obs_per_window, overlap=overlap))])\n",
    "\n",
    "X_trans, y_trans = pipe.fit_transform(X,y)"
   ]
  },
  {
   "cell_type": "code",
   "execution_count": null,
   "metadata": {},
   "outputs": [],
   "source": [
    "print(len(X_trans))\n",
    "for i, b in enumerate(X_trans):\n",
    "    print(i)\n",
    "    print(b.shape, b.index)\n",
    "    print(b.context_data.shape)\n",
    "    print(b.context_data)\n",
    "    print(b.ts_data.shape)\n",
    "    print(b.ts_data)\n",
    "    break"
   ]
  }
 ],
 "metadata": {
  "kernelspec": {
   "display_name": "Python 3",
   "language": "python",
   "name": "python3"
  },
  "language_info": {
   "codemirror_mode": {
    "name": "ipython",
    "version": 3
   },
   "file_extension": ".py",
   "mimetype": "text/x-python",
   "name": "python",
   "nbconvert_exporter": "python",
   "pygments_lexer": "ipython3",
   "version": "3.7.8"
  }
 },
 "nbformat": 4,
 "nbformat_minor": 4
}
